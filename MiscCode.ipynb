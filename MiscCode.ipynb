{
 "cells": [
  {
   "cell_type": "code",
   "execution_count": null,
   "metadata": {},
   "outputs": [],
   "source": [
    "# Check np.where for setting nans to 0.\n",
    "foo = np.ones((2,3,4))\n",
    "foo[0,1,2] = np.nan; foo[1,2,3] = np.nan\n",
    "bar = foo==1.\n",
    "\n",
    "foobar = np.where(bar, foo, 0.)\n",
    "\n",
    "print(foo,'\\n', bar,'\\n', foobar)"
   ]
  },
  {
   "cell_type": "code",
   "execution_count": null,
   "metadata": {},
   "outputs": [],
   "source": [
    "# Original lag/time conversion functions\n",
    "def times_to_lags(T):\n",
    "    \"\"\"\n",
    "    (N x n_step) matrix of times -> (N x n_step) matrix of lags.\n",
    "    First time is assumed to be zero.\n",
    "    **From keras_utils**\n",
    "    \"\"\"\n",
    "    assert T.ndim == 2, \"T must be an (N x n_step) matrix\"\n",
    "    return np.c_[np.zeros(T.shape[0]), np.diff(T, axis=1)]\n",
    "\n",
    "def lags_to_times(dT):\n",
    "    \"\"\"(N x n_step) matrix of lags -> (N x n_step) matrix of times\n",
    "    First time is assumed to be zero.\n",
    "    \"\"\"\n",
    "    assert dT.ndim == 2, \"dT must be an (N x n_step) matrix\"\n",
    "    return np.c_[np.zeros(dT.shape[0]), np.cumsum(dT[:,:-1], axis=1)]"
   ]
  },
  {
   "cell_type": "code",
   "execution_count": null,
   "metadata": {},
   "outputs": [],
   "source": [
    "# Check nan mask: delete non-nans, delete nans and inspect\n",
    "i = 3\n",
    "np.delete(X_train[i].flatten(), np.where(X_train_mask[i].flatten())), np.delete(X_train[i].flatten(), np.where(~X_train_mask[i].flatten()))"
   ]
  }
 ],
 "metadata": {
  "kernelspec": {
   "display_name": "Python 3",
   "language": "python",
   "name": "python3"
  },
  "language_info": {
   "codemirror_mode": {
    "name": "ipython",
    "version": 3
   },
   "file_extension": ".py",
   "mimetype": "text/x-python",
   "name": "python",
   "nbconvert_exporter": "python",
   "pygments_lexer": "ipython3",
   "version": "3.6.9"
  }
 },
 "nbformat": 4,
 "nbformat_minor": 4
}
