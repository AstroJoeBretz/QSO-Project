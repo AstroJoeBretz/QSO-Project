{
 "cells": [
  {
   "cell_type": "code",
   "execution_count": 1,
   "metadata": {},
   "outputs": [],
   "source": [
    "import pandas as pd\n",
    "import numpy as np\n",
    "\n",
    "import matplotlib.pyplot as plt"
   ]
  },
  {
   "cell_type": "markdown",
   "metadata": {
    "scrolled": true
   },
   "source": [
    "## MANTRA Data"
   ]
  },
  {
   "cell_type": "code",
   "execution_count": 2,
   "metadata": {},
   "outputs": [],
   "source": [
    "df_mantra_X = pd.read_csv('../data/MANTRA/transient_lightcurves.csv')\n",
    "df_mantra_Y = pd.read_csv('../data/MANTRA/transient_labels.csv')"
   ]
  },
  {
   "cell_type": "markdown",
   "metadata": {},
   "source": [
    "### DataFrame Head/Tail"
   ]
  },
  {
   "cell_type": "code",
   "execution_count": 6,
   "metadata": {},
   "outputs": [
    {
     "data": {
      "text/html": [
       "<div>\n",
       "<style scoped>\n",
       "    .dataframe tbody tr th:only-of-type {\n",
       "        vertical-align: middle;\n",
       "    }\n",
       "\n",
       "    .dataframe tbody tr th {\n",
       "        vertical-align: top;\n",
       "    }\n",
       "\n",
       "    .dataframe thead th {\n",
       "        text-align: right;\n",
       "    }\n",
       "</style>\n",
       "<table border=\"1\" class=\"dataframe\">\n",
       "  <thead>\n",
       "    <tr style=\"text-align: right;\">\n",
       "      <th></th>\n",
       "      <th>ID</th>\n",
       "      <th>observation_id</th>\n",
       "      <th>Mag</th>\n",
       "      <th>Magerr</th>\n",
       "      <th>MJD</th>\n",
       "    </tr>\n",
       "  </thead>\n",
       "  <tbody>\n",
       "    <tr>\n",
       "      <th>0</th>\n",
       "      <td>TranID1409030010044114444</td>\n",
       "      <td>0</td>\n",
       "      <td>18.8765</td>\n",
       "      <td>0.166417</td>\n",
       "      <td>53766.089871</td>\n",
       "    </tr>\n",
       "    <tr>\n",
       "      <th>1</th>\n",
       "      <td>TranID1409030010044114444</td>\n",
       "      <td>1</td>\n",
       "      <td>20.0519</td>\n",
       "      <td>0.281733</td>\n",
       "      <td>53990.458866</td>\n",
       "    </tr>\n",
       "    <tr>\n",
       "      <th>2</th>\n",
       "      <td>TranID1409030010044114444</td>\n",
       "      <td>2</td>\n",
       "      <td>20.2199</td>\n",
       "      <td>0.295764</td>\n",
       "      <td>53996.286004</td>\n",
       "    </tr>\n",
       "    <tr>\n",
       "      <th>3</th>\n",
       "      <td>TranID1409030010044114444</td>\n",
       "      <td>3</td>\n",
       "      <td>21.1192</td>\n",
       "      <td>0.495390</td>\n",
       "      <td>54385.205789</td>\n",
       "    </tr>\n",
       "    <tr>\n",
       "      <th>4</th>\n",
       "      <td>TranID1409030010044114444</td>\n",
       "      <td>4</td>\n",
       "      <td>19.3289</td>\n",
       "      <td>0.195002</td>\n",
       "      <td>54355.282285</td>\n",
       "    </tr>\n",
       "    <tr>\n",
       "      <th>...</th>\n",
       "      <td>...</td>\n",
       "      <td>...</td>\n",
       "      <td>...</td>\n",
       "      <td>...</td>\n",
       "      <td>...</td>\n",
       "    </tr>\n",
       "    <tr>\n",
       "      <th>440464</th>\n",
       "      <td>TranID1209190181234125108</td>\n",
       "      <td>451469</td>\n",
       "      <td>18.1952</td>\n",
       "      <td>0.123607</td>\n",
       "      <td>56189.314816</td>\n",
       "    </tr>\n",
       "    <tr>\n",
       "      <th>440465</th>\n",
       "      <td>TranID1209190181234125108</td>\n",
       "      <td>451470</td>\n",
       "      <td>18.2097</td>\n",
       "      <td>0.124706</td>\n",
       "      <td>56189.322996</td>\n",
       "    </tr>\n",
       "    <tr>\n",
       "      <th>440466</th>\n",
       "      <td>TranID1209190181234125108</td>\n",
       "      <td>451471</td>\n",
       "      <td>18.5116</td>\n",
       "      <td>0.138816</td>\n",
       "      <td>56205.285887</td>\n",
       "    </tr>\n",
       "    <tr>\n",
       "      <th>440467</th>\n",
       "      <td>TranID1209190181234125108</td>\n",
       "      <td>451472</td>\n",
       "      <td>18.3150</td>\n",
       "      <td>0.128915</td>\n",
       "      <td>56205.292631</td>\n",
       "    </tr>\n",
       "    <tr>\n",
       "      <th>440468</th>\n",
       "      <td>TranID1209190181234125108</td>\n",
       "      <td>451473</td>\n",
       "      <td>18.6342</td>\n",
       "      <td>0.152335</td>\n",
       "      <td>56218.237507</td>\n",
       "    </tr>\n",
       "  </tbody>\n",
       "</table>\n",
       "<p>440469 rows × 5 columns</p>\n",
       "</div>"
      ],
      "text/plain": [
       "                               ID  observation_id      Mag    Magerr  \\\n",
       "0       TranID1409030010044114444               0  18.8765  0.166417   \n",
       "1       TranID1409030010044114444               1  20.0519  0.281733   \n",
       "2       TranID1409030010044114444               2  20.2199  0.295764   \n",
       "3       TranID1409030010044114444               3  21.1192  0.495390   \n",
       "4       TranID1409030010044114444               4  19.3289  0.195002   \n",
       "...                           ...             ...      ...       ...   \n",
       "440464  TranID1209190181234125108          451469  18.1952  0.123607   \n",
       "440465  TranID1209190181234125108          451470  18.2097  0.124706   \n",
       "440466  TranID1209190181234125108          451471  18.5116  0.138816   \n",
       "440467  TranID1209190181234125108          451472  18.3150  0.128915   \n",
       "440468  TranID1209190181234125108          451473  18.6342  0.152335   \n",
       "\n",
       "                 MJD  \n",
       "0       53766.089871  \n",
       "1       53990.458866  \n",
       "2       53996.286004  \n",
       "3       54385.205789  \n",
       "4       54355.282285  \n",
       "...              ...  \n",
       "440464  56189.314816  \n",
       "440465  56189.322996  \n",
       "440466  56205.285887  \n",
       "440467  56205.292631  \n",
       "440468  56218.237507  \n",
       "\n",
       "[440469 rows x 5 columns]"
      ]
     },
     "execution_count": 6,
     "metadata": {},
     "output_type": "execute_result"
    }
   ],
   "source": [
    "df_mantra_X"
   ]
  },
  {
   "cell_type": "code",
   "execution_count": 7,
   "metadata": {},
   "outputs": [
    {
     "data": {
      "text/html": [
       "<div>\n",
       "<style scoped>\n",
       "    .dataframe tbody tr th:only-of-type {\n",
       "        vertical-align: middle;\n",
       "    }\n",
       "\n",
       "    .dataframe tbody tr th {\n",
       "        vertical-align: top;\n",
       "    }\n",
       "\n",
       "    .dataframe thead th {\n",
       "        text-align: right;\n",
       "    }\n",
       "</style>\n",
       "<table border=\"1\" class=\"dataframe\">\n",
       "  <thead>\n",
       "    <tr style=\"text-align: right;\">\n",
       "      <th></th>\n",
       "      <th>Classification</th>\n",
       "      <th>TransientID</th>\n",
       "    </tr>\n",
       "  </thead>\n",
       "  <tbody>\n",
       "    <tr>\n",
       "      <th>0</th>\n",
       "      <td>Flare</td>\n",
       "      <td>1611101400424116462</td>\n",
       "    </tr>\n",
       "    <tr>\n",
       "      <th>1</th>\n",
       "      <td>HPM</td>\n",
       "      <td>1611101210274176502</td>\n",
       "    </tr>\n",
       "    <tr>\n",
       "      <th>2</th>\n",
       "      <td>HPM</td>\n",
       "      <td>1611101150154137989</td>\n",
       "    </tr>\n",
       "    <tr>\n",
       "      <th>3</th>\n",
       "      <td>HPM</td>\n",
       "      <td>1611091630244128695</td>\n",
       "    </tr>\n",
       "    <tr>\n",
       "      <th>4</th>\n",
       "      <td>CV</td>\n",
       "      <td>1611091600294129774</td>\n",
       "    </tr>\n",
       "    <tr>\n",
       "      <th>...</th>\n",
       "      <td>...</td>\n",
       "      <td>...</td>\n",
       "    </tr>\n",
       "    <tr>\n",
       "      <th>5534</th>\n",
       "      <td>SN</td>\n",
       "      <td>711020040154124879</td>\n",
       "    </tr>\n",
       "    <tr>\n",
       "      <th>5535</th>\n",
       "      <td>SN</td>\n",
       "      <td>711020040154110403</td>\n",
       "    </tr>\n",
       "    <tr>\n",
       "      <th>5536</th>\n",
       "      <td>SN/TDE</td>\n",
       "      <td>711020040064121985</td>\n",
       "    </tr>\n",
       "    <tr>\n",
       "      <th>5537</th>\n",
       "      <td>SN</td>\n",
       "      <td>711011210104109439</td>\n",
       "    </tr>\n",
       "    <tr>\n",
       "      <th>5538</th>\n",
       "      <td>SN</td>\n",
       "      <td>703201120684101938</td>\n",
       "    </tr>\n",
       "  </tbody>\n",
       "</table>\n",
       "<p>5539 rows × 2 columns</p>\n",
       "</div>"
      ],
      "text/plain": [
       "     Classification          TransientID\n",
       "0             Flare  1611101400424116462\n",
       "1               HPM  1611101210274176502\n",
       "2               HPM  1611101150154137989\n",
       "3               HPM  1611091630244128695\n",
       "4                CV  1611091600294129774\n",
       "...             ...                  ...\n",
       "5534             SN   711020040154124879\n",
       "5535             SN   711020040154110403\n",
       "5536         SN/TDE   711020040064121985\n",
       "5537             SN   711011210104109439\n",
       "5538             SN   703201120684101938\n",
       "\n",
       "[5539 rows x 2 columns]"
      ]
     },
     "execution_count": 7,
     "metadata": {},
     "output_type": "execute_result"
    }
   ],
   "source": [
    "df_mantra_Y"
   ]
  },
  {
   "cell_type": "markdown",
   "metadata": {},
   "source": [
    "#### All Unique Classifications"
   ]
  },
  {
   "cell_type": "code",
   "execution_count": 8,
   "metadata": {},
   "outputs": [
    {
     "data": {
      "text/plain": [
       "array(['AGB', 'AGN', 'AGN/Blazar', 'AGN/CV', 'AGN/Flare?', 'AGN/SN',\n",
       "       'AGN/SN?', 'AGN/Var', 'AGN/Var?', 'AGN/nothing?', 'AGN?', 'AMCVn?',\n",
       "       'Ast', 'Ast/CV?', 'Ast/Flare', 'Ast/Flare?', 'Ast/SN', 'Ast/SN?',\n",
       "       'Ast/Var', 'Ast/Var?', 'Ast/Var??', 'Ast?', 'Blazar', 'Blazar/AGN',\n",
       "       'Blazar/SN', 'Blazar?', 'CV', 'CV/AGN', 'CV/AGN?', 'CV/Ast',\n",
       "       'CV/Ast?', 'CV/Blazar', 'CV/Flare', 'CV/SN', 'CV/SN?', 'CV/Var',\n",
       "       'CV/Var/Ast', 'CV/Var?', 'CV?', 'Carb', 'Carbon', 'Comet',\n",
       "       'Comet/Ast?', 'FU', 'Flare', 'Flare/CV', 'Flare/SN', 'Flare/SN?',\n",
       "       'Flare?', 'GRB', 'HPM', 'HPM/Var?', 'HPM?', 'HPM_GJ3329',\n",
       "       'LHS_5157', 'LPV', 'Lensing/nothing?', 'Maser', 'Merger/CV?',\n",
       "       'Mira', 'Nothing/Lensing', 'Nova', 'Nova/CV', 'Nova?', 'O/Ne',\n",
       "       'OH-IR', 'OH_IR', 'QSO', 'RCorB', 'RRL', 'RRLyrae', 'Red', 'SDSS',\n",
       "       'SN', 'SN/AGN', 'SN/AGN?', 'SN/Ast', 'SN/Ast?', 'SN/CV', 'SN/CV?',\n",
       "       'SN/TDE', 'SN/TDE?', 'SN/Var', 'SN/Var?', 'SN/nothing?', 'SN?',\n",
       "       'TDE?', 'Unclear', 'Unknown', 'UvES', 'Var', 'Var/AGN',\n",
       "       'Var/Artifact', 'Var/Ast', 'Var/Ast?', 'Var/Flare?', 'Var/Nothing',\n",
       "       'Var/Nova', 'Var/SN', 'Var/SN?', 'Var/nothing?', 'Var?',\n",
       "       'Variable', 'Very', 'YSO', 'YSO?'], dtype=object)"
      ]
     },
     "execution_count": 8,
     "metadata": {},
     "output_type": "execute_result"
    }
   ],
   "source": [
    "np.unique(df_mantra_Y['Classification'])"
   ]
  },
  {
   "cell_type": "code",
   "execution_count": 9,
   "metadata": {},
   "outputs": [],
   "source": [
    "def mantra_class_lengths(clss, df_X=df_mantra_X, df_Y=df_mantra_Y):\n",
    "    \"\"\"\n",
    "    \n",
    "    \"\"\"\n",
    "    df_clss = df_Y[df_Y['Classification'] == clss]\n",
    "    np_clss = df_clss['TransientID'].to_numpy()\n",
    "    \n",
    "    output = [];\n",
    "    for ID in np_clss:\n",
    "        strID = 'TranID'+str(ID)\n",
    "        df_size = df_X[df_X['ID'] == strID].shape[0]\n",
    "        output.append(df_size)\n",
    "\n",
    "    return np.array(output)"
   ]
  },
  {
   "cell_type": "code",
   "execution_count": 10,
   "metadata": {},
   "outputs": [],
   "source": [
    "AGN_lengths = mantra_class_lengths('AGN')"
   ]
  },
  {
   "cell_type": "code",
   "execution_count": 11,
   "metadata": {},
   "outputs": [],
   "source": [
    "SN_lengths = mantra_class_lengths('SN')"
   ]
  },
  {
   "cell_type": "code",
   "execution_count": 12,
   "metadata": {},
   "outputs": [],
   "source": [
    "CV_lengths = mantra_class_lengths('CV')"
   ]
  },
  {
   "cell_type": "code",
   "execution_count": 13,
   "metadata": {},
   "outputs": [],
   "source": [
    "Var_lengths = mantra_class_lengths('Var')"
   ]
  },
  {
   "cell_type": "code",
   "execution_count": 14,
   "metadata": {},
   "outputs": [],
   "source": [
    "HPM_lengths = mantra_class_lengths('HPM')"
   ]
  },
  {
   "cell_type": "code",
   "execution_count": 16,
   "metadata": {},
   "outputs": [
    {
     "name": "stdout",
     "output_type": "stream",
     "text": [
      "AGN 446\n",
      "SN 1723\n",
      "CV 988\n",
      "HPM 640\n",
      "Var 49\n"
     ]
    }
   ],
   "source": [
    "print('AGN', AGN_lengths.shape[0])\n",
    "print('SN', SN_lengths.shape[0])\n",
    "print('CV', CV_lengths.shape[0])\n",
    "print('HPM', HPM_lengths.shape[0])\n",
    "print('Var', Var_lengths.shape[0])"
   ]
  },
  {
   "cell_type": "code",
   "execution_count": 15,
   "metadata": {},
   "outputs": [
    {
     "data": {
      "image/png": "[encoded data removed]",
      "text/plain": [
       "<Figure size 720x432 with 1 Axes>"
      ]
     },
     "metadata": {
      "needs_background": "light"
     },
     "output_type": "display_data"
    }
   ],
   "source": [
    "plt.figure(figsize=(10,6))\n",
    "plt.hist(AGN_lengths, bins=43, histtype='step', label='AGN');\n",
    "plt.hist(SN_lengths, bins=43, histtype='step', label='SN');\n",
    "plt.hist(CV_lengths, bins=43, histtype='step', label='CV');\n",
    "plt.hist(HPM_lengths, bins=43, histtype='step', label='HPM');\n",
    "plt.hist(Var_lengths, bins=43, histtype='step', label='Var');\n",
    "plt.yscale('log')\n",
    "plt.legend();"
   ]
  },
  {
   "cell_type": "markdown",
   "metadata": {},
   "source": [
    "Can probably leave out the few Var"
   ]
  },
  {
   "cell_type": "code",
   "execution_count": 22,
   "metadata": {
    "scrolled": true
   },
   "outputs": [
    {
     "data": {
      "text/plain": [
       "array([446, 433, 401, 400, 397, 394, 392, 385, 384, 379, 369, 362, 361,\n",
       "       358, 358, 357, 357, 356, 355, 355, 353, 347, 347, 344, 344, 340,\n",
       "       339, 338, 336, 336, 333, 333, 331, 329, 329, 327, 326, 325, 323,\n",
       "       322, 320, 318, 316, 314, 312, 308, 308, 307, 306, 305, 303, 301,\n",
       "       300, 298, 297, 297, 296, 295, 294, 293, 292, 291, 290, 289, 286,\n",
       "       285, 285, 285, 283, 282, 280, 278, 277, 276, 275, 274, 271, 269,\n",
       "       269, 269, 268, 268, 268, 266, 265, 265, 264, 264, 263, 263, 260,\n",
       "       259, 257, 257, 256, 256, 255, 254, 254, 253, 253, 252, 252, 250,\n",
       "       248, 248, 248, 246, 246, 244, 244, 243, 242, 241, 239, 239, 237,\n",
       "       236, 235, 233, 232, 232, 231, 230, 226, 225, 225, 224, 224, 223,\n",
       "       223, 223, 222, 222, 221, 221, 221, 221, 219, 219, 217, 217, 217,\n",
       "       214, 214, 213, 213, 211, 211, 210, 209, 208, 205, 205, 205, 205,\n",
       "       204, 204, 202, 201, 200, 199, 198, 198, 197, 197, 194, 193, 193,\n",
       "       192, 192, 191, 191, 190, 189, 188, 188, 187, 186, 185, 185, 184,\n",
       "       183, 182, 181, 180, 179, 179, 178, 178, 178, 177, 176, 175, 175,\n",
       "       174, 171, 171, 171, 170, 170, 170, 170, 170, 169, 168, 168, 168,\n",
       "       167, 167, 167, 166, 165, 164, 163, 163, 163, 163, 162, 162, 160,\n",
       "       159, 158, 158, 158, 157, 157, 157, 155, 155, 155, 154, 153, 152,\n",
       "       152, 152, 151, 151, 150, 150, 147, 147, 147, 146, 146, 146, 145,\n",
       "       145, 145, 144, 144, 141, 141, 141, 141, 140, 139, 139, 139, 137,\n",
       "       135, 135, 134, 134, 134, 132, 132, 130, 130, 129, 127, 126, 126,\n",
       "       124, 124, 124, 123, 123, 123, 122, 122, 121, 119, 119, 119, 118,\n",
       "       118, 118, 117, 116, 116, 115, 115, 115, 114, 112, 111, 111, 110,\n",
       "       108, 108, 108, 107, 107, 107, 106, 106, 105, 104, 104, 104, 104,\n",
       "       103, 101, 100, 100,  99,  98,  97,  97,  97,  96,  96,  95,  94,\n",
       "        94,  93,  93,  93,  93,  92,  92,  91,  91,  90,  86,  85,  83,\n",
       "        82,  81,  80,  80,  80,  80,  79,  79,  78,  77,  76,  76,  75,\n",
       "        75,  75,  73,  72,  71,  71,  70,  69,  68,  68,  68,  68,  67,\n",
       "        67,  67,  66,  64,  64,  63,  63,  63,  63,  62,  59,  59,  59,\n",
       "        58,  57,  57,  56,  55,  53,  53,  52,  52,  51,  50,  50,  48,\n",
       "        48,  47,  47,  46,  45,  45,  44,  43,  41,  41,  38,  37,  36,\n",
       "        35,  34,  34,  33,  29,  28,  28,  27,  26,  23,  20,  20,  20,\n",
       "        20,  19,  16,  14,  14,  14,  13,  12,   8,   3,   1,   0,   0,\n",
       "         0,   0,   0,   0,   0,   0,   0,   0,   0,   0,   0,   0,   0,\n",
       "         0,   0,   0,   0])"
      ]
     },
     "execution_count": 22,
     "metadata": {},
     "output_type": "execute_result"
    }
   ],
   "source": [
    "np.sort(AGN_lengths)[::-1]"
   ]
  },
  {
   "cell_type": "code",
   "execution_count": 23,
   "metadata": {},
   "outputs": [],
   "source": [
    "def extract_mantra_class(clss, threshold=20, df_X=df_mantra_X, df_Y=df_mantra_Y):\n",
    "    \"\"\"\n",
    "    \n",
    "    \"\"\"\n",
    "    df_clss = df_Y[df_Y['Classification'] == clss]\n",
    "    np_clss = df_clss['TransientID'].to_numpy()\n",
    "    \n",
    "    output = [];\n",
    "    for ID in np_clss:\n",
    "        strID = 'TranID'+str(ID)\n",
    "        df_mmm = df_X[df_X['ID'] == strID][['Mag','Magerr','MJD']]\n",
    "        if df_mmm.shape[0] >= threshold:\n",
    "            output.append(df_mmm.sort_values('MJD').to_numpy()[:threshold])\n",
    "\n",
    "    return np.array(output)"
   ]
  },
  {
   "cell_type": "code",
   "execution_count": 24,
   "metadata": {},
   "outputs": [],
   "source": [
    "classes = ['AGN','SN','CV','HPM','Var']"
   ]
  },
  {
   "cell_type": "code",
   "execution_count": 25,
   "metadata": {},
   "outputs": [
    {
     "name": "stdout",
     "output_type": "stream",
     "text": [
      "Wall time: 1min 51s\n"
     ]
    }
   ],
   "source": [
    "%%time\n",
    "\n",
    "ex50_dict = {};\n",
    "\n",
    "for clas in classes:\n",
    "    ex50_dict[clas] = extract_mantra_class(clas, threshold=50)"
   ]
  },
  {
   "cell_type": "code",
   "execution_count": 27,
   "metadata": {},
   "outputs": [
    {
     "name": "stdout",
     "output_type": "stream",
     "text": [
      "AGN (389, 50, 3)\n",
      "SN (351, 50, 3)\n",
      "CV (491, 50, 3)\n",
      "HPM (166, 50, 3)\n",
      "Var (39, 50, 3)\n"
     ]
    }
   ],
   "source": [
    "for clas in classes:\n",
    "    print(clas, ex50_dict[clas].shape)"
   ]
  },
  {
   "cell_type": "markdown",
   "metadata": {},
   "source": [
    "## Export Data"
   ]
  },
  {
   "cell_type": "code",
   "execution_count": 50,
   "metadata": {},
   "outputs": [
    {
     "data": {
      "text/plain": [
       "389"
      ]
     },
     "execution_count": 50,
     "metadata": {},
     "output_type": "execute_result"
    }
   ],
   "source": [
    "labels.sum()"
   ]
  },
  {
   "cell_type": "code",
   "execution_count": 104,
   "metadata": {},
   "outputs": [
    {
     "data": {
      "text/plain": [
       "((1436,), (1436,))"
      ]
     },
     "execution_count": 104,
     "metadata": {},
     "output_type": "execute_result"
    }
   ],
   "source": [
    "clas_counts = [ex50_dict[clas].shape[0] for clas in classes]\n",
    "labels = np.array([1]*clas_counts[0] + [0]*sum(clas_counts[1:]))\n",
    "labels_all = np.array([y for x in [[i]*clas_counts[i] for i in range(len(clas_counts))] for y in x])\n",
    "labels.shape, labels_all.shape"
   ]
  },
  {
   "cell_type": "code",
   "execution_count": 72,
   "metadata": {},
   "outputs": [
    {
     "data": {
      "text/plain": [
       "7760.2403"
      ]
     },
     "execution_count": 72,
     "metadata": {},
     "output_type": "execute_result"
    }
   ],
   "source": [
    "np.sum(np.ma.masked_array(lightcurves[:,0,0], mask=1-labels))"
   ]
  },
  {
   "cell_type": "code",
   "execution_count": 74,
   "metadata": {},
   "outputs": [
    {
     "data": {
      "text/plain": [
       "7760.2403"
      ]
     },
     "execution_count": 74,
     "metadata": {},
     "output_type": "execute_result"
    }
   ],
   "source": [
    "np.sum(ex50_dict['AGN'][:,0,0])"
   ]
  },
  {
   "cell_type": "code",
   "execution_count": 53,
   "metadata": {},
   "outputs": [
    {
     "data": {
      "text/plain": [
       "(1436, 50, 3)"
      ]
     },
     "execution_count": 53,
     "metadata": {},
     "output_type": "execute_result"
    }
   ],
   "source": [
    "lightcurves = np.concatenate(tuple([ex50_dict[clas] for clas in classes]))\n",
    "lightcurves.shape"
   ]
  },
  {
   "cell_type": "code",
   "execution_count": 75,
   "metadata": {},
   "outputs": [],
   "source": [
    "np.save('../data/MANTRA/lc_n50', lightcurves)"
   ]
  },
  {
   "cell_type": "code",
   "execution_count": 76,
   "metadata": {},
   "outputs": [],
   "source": [
    "np.save('../data/MANTRA/labels_n50', labels)"
   ]
  },
  {
   "cell_type": "code",
   "execution_count": 105,
   "metadata": {},
   "outputs": [],
   "source": [
    "np.save('../data/MANTRA/labels_all_n50', labels_all)"
   ]
  },
  {
   "cell_type": "code",
   "execution_count": null,
   "metadata": {},
   "outputs": [],
   "source": []
  },
  {
   "cell_type": "code",
   "execution_count": 106,
   "metadata": {},
   "outputs": [
    {
     "data": {
      "image/png": "[encoded data removed]",
      "text/plain": [
       "<Figure size 432x288 with 1 Axes>"
      ]
     },
     "metadata": {
      "needs_background": "light"
     },
     "output_type": "display_data"
    }
   ],
   "source": [
    "for clas in classes:\n",
    "    plt.plot(ex50_dict[clas][0,:,2], ex50_dict[clas][0,:,0], '.')"
   ]
  },
  {
   "cell_type": "code",
   "execution_count": 170,
   "metadata": {},
   "outputs": [
    {
     "data": {
      "image/png": "[encoded data removed]",
      "text/plain": [
       "<Figure size 432x288 with 1 Axes>"
      ]
     },
     "metadata": {
      "needs_background": "light"
     },
     "output_type": "display_data"
    }
   ],
   "source": [
    "for i in range(10):\n",
    "    plt.plot(CV_20[i,:,2], CV_20[i,:,0], '.')"
   ]
  },
  {
   "cell_type": "code",
   "execution_count": null,
   "metadata": {},
   "outputs": [],
   "source": []
  },
  {
   "cell_type": "code",
   "execution_count": null,
   "metadata": {},
   "outputs": [],
   "source": []
  },
  {
   "cell_type": "code",
   "execution_count": null,
   "metadata": {},
   "outputs": [],
   "source": []
  },
  {
   "cell_type": "code",
   "execution_count": 63,
   "metadata": {},
   "outputs": [
    {
     "data": {
      "text/plain": [
       "((4869,), (5539,))"
      ]
     },
     "execution_count": 63,
     "metadata": {},
     "output_type": "execute_result"
    }
   ],
   "source": [
    "X_unique_raw = np.unique(df_mantra_X['ID'])\n",
    "X_unique = np.array([np.int64(x[6:]) for x in X_unique_raw])\n",
    "Y_unique = df_mantra_Y['TransientID']\n",
    "X_unique.shape, Y_unique.shape"
   ]
  },
  {
   "cell_type": "code",
   "execution_count": 81,
   "metadata": {
    "collapsed": true
   },
   "outputs": [
    {
     "data": {
      "text/plain": [
       "[1,\n",
       " 0,\n",
       " 0,\n",
       " 1,\n",
       " 1,\n",
       " 0,\n",
       " 1,\n",
       " 1,\n",
       " 0,\n",
       " 1,\n",
       " 0,\n",
       " 1,\n",
       " 1,\n",
       " 1,\n",
       " 0,\n",
       " 1,\n",
       " 1,\n",
       " 0,\n",
       " 0,\n",
       " 0,\n",
       " 1,\n",
       " 1,\n",
       " 1,\n",
       " 0,\n",
       " 1,\n",
       " 0,\n",
       " 0,\n",
       " 1,\n",
       " 1,\n",
       " 0,\n",
       " 0,\n",
       " 1,\n",
       " 1,\n",
       " 1,\n",
       " 0,\n",
       " 0,\n",
       " 0,\n",
       " 1,\n",
       " 0,\n",
       " 1,\n",
       " 0,\n",
       " 1,\n",
       " 1,\n",
       " 1,\n",
       " 1,\n",
       " 0,\n",
       " 0,\n",
       " 0,\n",
       " 1,\n",
       " 1]"
      ]
     },
     "execution_count": 81,
     "metadata": {},
     "output_type": "execute_result"
    }
   ],
   "source": [
    "[sum(X_unique == Y_unique[i]) for i in range(50)]"
   ]
  },
  {
   "cell_type": "code",
   "execution_count": null,
   "metadata": {},
   "outputs": [],
   "source": []
  }
 ],
 "metadata": {
  "kernelspec": {
   "display_name": "Python 3",
   "language": "python",
   "name": "python3"
  },
  "language_info": {
   "codemirror_mode": {
    "name": "ipython",
    "version": 3
   },
   "file_extension": ".py",
   "mimetype": "text/x-python",
   "name": "python",
   "nbconvert_exporter": "python",
   "pygments_lexer": "ipython3",
   "version": "3.6.9"
  }
 },
 "nbformat": 4,
 "nbformat_minor": 2
}
