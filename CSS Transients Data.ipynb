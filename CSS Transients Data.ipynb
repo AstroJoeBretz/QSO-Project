{
 "cells": [
  {
   "cell_type": "code",
   "execution_count": 1,
   "metadata": {},
   "outputs": [],
   "source": [
    "import numpy as np\n",
    "import pandas as pd"
   ]
  },
  {
   "cell_type": "code",
   "execution_count": null,
   "metadata": {},
   "outputs": [],
   "source": []
  },
  {
   "cell_type": "code",
   "execution_count": 13,
   "metadata": {},
   "outputs": [
    {
     "data": {
      "text/plain": [
       "(5540, 3)"
      ]
     },
     "execution_count": 13,
     "metadata": {},
     "output_type": "execute_result"
    }
   ],
   "source": [
    "all_df = []\n",
    "\n",
    "for i in range(28):\n",
    "    df = pd.read_csv('../data/CRTS-I_CSS_Transients/input'+str(i+1), \n",
    "                     sep=' ', \n",
    "                     names=['CSS_ID','RA','DEC']\n",
    "                    )\n",
    "    all_df.append(df)\n",
    "\n",
    "df_all = pd.concat(all_df)\n",
    "df_all.shape"
   ]
  },
  {
   "cell_type": "code",
   "execution_count": null,
   "metadata": {},
   "outputs": [],
   "source": []
  },
  {
   "cell_type": "code",
   "execution_count": 14,
   "metadata": {},
   "outputs": [
    {
     "data": {
      "text/html": [
       "<div>\n",
       "<style scoped>\n",
       "    .dataframe tbody tr th:only-of-type {\n",
       "        vertical-align: middle;\n",
       "    }\n",
       "\n",
       "    .dataframe tbody tr th {\n",
       "        vertical-align: top;\n",
       "    }\n",
       "\n",
       "    .dataframe thead th {\n",
       "        text-align: right;\n",
       "    }\n",
       "</style>\n",
       "<table border=\"1\" class=\"dataframe\">\n",
       "  <thead>\n",
       "    <tr style=\"text-align: right;\">\n",
       "      <th></th>\n",
       "      <th>CSS_ID</th>\n",
       "      <th>RA</th>\n",
       "      <th>DEC</th>\n",
       "    </tr>\n",
       "  </thead>\n",
       "  <tbody>\n",
       "    <tr>\n",
       "      <th>0</th>\n",
       "      <td>1208280210014111715</td>\n",
       "      <td>0.04323</td>\n",
       "      <td>-21.92087</td>\n",
       "    </tr>\n",
       "    <tr>\n",
       "      <th>1</th>\n",
       "      <td>1009101320014148188</td>\n",
       "      <td>0.10280</td>\n",
       "      <td>33.42861</td>\n",
       "    </tr>\n",
       "    <tr>\n",
       "      <th>2</th>\n",
       "      <td>1011271040014129121</td>\n",
       "      <td>0.37695</td>\n",
       "      <td>5.10657</td>\n",
       "    </tr>\n",
       "    <tr>\n",
       "      <th>3</th>\n",
       "      <td>1607091210014124380</td>\n",
       "      <td>0.38474</td>\n",
       "      <td>21.22680</td>\n",
       "    </tr>\n",
       "    <tr>\n",
       "      <th>4</th>\n",
       "      <td>1109261070014122864</td>\n",
       "      <td>0.48205</td>\n",
       "      <td>6.87665</td>\n",
       "    </tr>\n",
       "    <tr>\n",
       "      <th>...</th>\n",
       "      <td>...</td>\n",
       "      <td>...</td>\n",
       "      <td>...</td>\n",
       "    </tr>\n",
       "    <tr>\n",
       "      <th>136</th>\n",
       "      <td>1011020151234106150</td>\n",
       "      <td>357.01081</td>\n",
       "      <td>-16.52004</td>\n",
       "    </tr>\n",
       "    <tr>\n",
       "      <th>137</th>\n",
       "      <td>1209150071264108321</td>\n",
       "      <td>357.04332</td>\n",
       "      <td>-8.15071</td>\n",
       "    </tr>\n",
       "    <tr>\n",
       "      <th>138</th>\n",
       "      <td>1101151181224113126</td>\n",
       "      <td>357.06133</td>\n",
       "      <td>18.20544</td>\n",
       "    </tr>\n",
       "    <tr>\n",
       "      <th>139</th>\n",
       "      <td>1109230181234122987</td>\n",
       "      <td>358.02887</td>\n",
       "      <td>-18.43059</td>\n",
       "    </tr>\n",
       "    <tr>\n",
       "      <th>140</th>\n",
       "      <td>1209190181234125108</td>\n",
       "      <td>359.34494</td>\n",
       "      <td>-18.45311</td>\n",
       "    </tr>\n",
       "  </tbody>\n",
       "</table>\n",
       "<p>5540 rows × 3 columns</p>\n",
       "</div>"
      ],
      "text/plain": [
       "                  CSS_ID         RA       DEC\n",
       "0    1208280210014111715    0.04323 -21.92087\n",
       "1    1009101320014148188    0.10280  33.42861\n",
       "2    1011271040014129121    0.37695   5.10657\n",
       "3    1607091210014124380    0.38474  21.22680\n",
       "4    1109261070014122864    0.48205   6.87665\n",
       "..                   ...        ...       ...\n",
       "136  1011020151234106150  357.01081 -16.52004\n",
       "137  1209150071264108321  357.04332  -8.15071\n",
       "138  1101151181224113126  357.06133  18.20544\n",
       "139  1109230181234122987  358.02887 -18.43059\n",
       "140  1209190181234125108  359.34494 -18.45311\n",
       "\n",
       "[5540 rows x 3 columns]"
      ]
     },
     "execution_count": 14,
     "metadata": {},
     "output_type": "execute_result"
    }
   ],
   "source": [
    "df_all"
   ]
  },
  {
   "cell_type": "code",
   "execution_count": null,
   "metadata": {},
   "outputs": [],
   "source": []
  }
 ],
 "metadata": {
  "kernelspec": {
   "display_name": "Python 3",
   "language": "python",
   "name": "python3"
  },
  "language_info": {
   "codemirror_mode": {
    "name": "ipython",
    "version": 3
   },
   "file_extension": ".py",
   "mimetype": "text/x-python",
   "name": "python",
   "nbconvert_exporter": "python",
   "pygments_lexer": "ipython3",
   "version": "3.6.9"
  }
 },
 "nbformat": 4,
 "nbformat_minor": 2
}
