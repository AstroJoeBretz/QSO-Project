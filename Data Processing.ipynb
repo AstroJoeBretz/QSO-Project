{
 "cells": [
  {
   "cell_type": "code",
   "execution_count": 160,
   "metadata": {},
   "outputs": [],
   "source": [
    "import pandas as pd\n",
    "import numpy as np\n",
    "\n",
    "import matplotlib.pyplot as plt"
   ]
  },
  {
   "cell_type": "markdown",
   "metadata": {},
   "source": [
    "## NSC Data"
   ]
  },
  {
   "cell_type": "code",
   "execution_count": 3,
   "metadata": {},
   "outputs": [
    {
     "name": "stdout",
     "output_type": "stream",
     "text": [
      "filter: g\n",
      "# of objects: 3658\n",
      "filter: r\n",
      "# of objects: 6157\n",
      "filter: i\n",
      "# of objects: 4714\n",
      "filter: z\n",
      "# of objects: 3976\n"
     ]
    }
   ],
   "source": [
    "filters = ['g','r','i','z'];\n",
    "df_dict = {};\n",
    "objs_dict = {};\n",
    "N_lc_dict = {};\n",
    "\n",
    "for fil in filters:\n",
    "    df_dict[fil] = pd.read_csv('../data/lightCurves/lc_'+fil+'_n100.csv');\n",
    "    objs_dict[fil] = df_dict[fil].objectid.unique();\n",
    "    N_lc_dict[fil] = objs_dict[fil].shape[0];\n",
    "    \n",
    "    print(\"filter:\", fil)\n",
    "    print(\"# of objects:\", N_lc_dict[fil])"
   ]
  },
  {
   "cell_type": "code",
   "execution_count": 4,
   "metadata": {},
   "outputs": [
    {
     "name": "stdout",
     "output_type": "stream",
     "text": [
      "Wall time: 6min 32s\n"
     ]
    }
   ],
   "source": [
    "%%time\n",
    "X_raw = {};\n",
    "\n",
    "for fil in filters:\n",
    "    selcol = df_dict[fil][['mjd', 'mag_aper2', 'magerr_aper2']].to_numpy() # Select columns and convert to np.array\n",
    "    X_raw[fil] = np.array([selcol[df_dict[fil].objectid.to_numpy() == objs_dict[fil][i]][:100] for i in range(len(objs_dict[fil]))])"
   ]
  },
  {
   "cell_type": "code",
   "execution_count": 5,
   "metadata": {},
   "outputs": [],
   "source": [
    "def preprocess(arr):\n",
    "    \"\"\"\n",
    "    Preprocess light curve data\n",
    "    \n",
    "    Arguments:\n",
    "        arr: np.array of data\n",
    "    \n",
    "    Returns:\n",
    "        X: output data\n",
    "    \"\"\"\n",
    "    \n",
    "    X = arr.copy()\n",
    "    mins = np.atleast_2d(np.amin(X[:,:,0], axis=1)).T     # Find smallest mjd\n",
    "    X[:,:,0] -= mins                                      # Shift mjd to start at 0\n",
    "    \n",
    "    return X"
   ]
  },
  {
   "cell_type": "code",
   "execution_count": 6,
   "metadata": {},
   "outputs": [],
   "source": [
    "X = {};\n",
    "for fil in filters:\n",
    "    X[fil] = preprocess(X_raw[fil])"
   ]
  },
  {
   "cell_type": "code",
   "execution_count": 7,
   "metadata": {},
   "outputs": [
    {
     "name": "stdout",
     "output_type": "stream",
     "text": [
      "g (3658, 100, 3)\n",
      "r (6157, 100, 3)\n",
      "i (4714, 100, 3)\n",
      "z (3976, 100, 3)\n"
     ]
    }
   ],
   "source": [
    "for fil in filters:\n",
    "    print(fil, X[fil].shape)"
   ]
  },
  {
   "cell_type": "code",
   "execution_count": 97,
   "metadata": {},
   "outputs": [
    {
     "data": {
      "text/plain": [
       "(18505, 100, 3)"
      ]
     },
     "execution_count": 97,
     "metadata": {},
     "output_type": "execute_result"
    }
   ],
   "source": [
    "X_all = np.concatenate([X[fil] for fil in filters])\n",
    "X_all.shape"
   ]
  },
  {
   "cell_type": "code",
   "execution_count": null,
   "metadata": {},
   "outputs": [],
   "source": []
  },
  {
   "cell_type": "code",
   "execution_count": 10,
   "metadata": {},
   "outputs": [],
   "source": [
    "for fil in filters:\n",
    "    np.save('../data/lightCurves/lc_'+fil+'_n100', X[fil])"
   ]
  },
  {
   "cell_type": "code",
   "execution_count": 98,
   "metadata": {},
   "outputs": [],
   "source": [
    "np.save('../data/lightCurves/lc_griz_n100', X_all)"
   ]
  },
  {
   "cell_type": "code",
   "execution_count": 105,
   "metadata": {},
   "outputs": [],
   "source": [
    "bar = np.load('../data/lightCurves/lc_griz_n100.npy')"
   ]
  },
  {
   "cell_type": "code",
   "execution_count": 106,
   "metadata": {},
   "outputs": [
    {
     "data": {
      "text/plain": [
       "(18505, 100, 3)"
      ]
     },
     "execution_count": 106,
     "metadata": {},
     "output_type": "execute_result"
    }
   ],
   "source": [
    "bar.shape"
   ]
  }
 ],
 "metadata": {
  "kernelspec": {
   "display_name": "Python 3",
   "language": "python",
   "name": "python3"
  },
  "language_info": {
   "codemirror_mode": {
    "name": "ipython",
    "version": 3
   },
   "file_extension": ".py",
   "mimetype": "text/x-python",
   "name": "python",
   "nbconvert_exporter": "python",
   "pygments_lexer": "ipython3",
   "version": "3.6.9"
  }
 },
 "nbformat": 4,
 "nbformat_minor": 2
}
